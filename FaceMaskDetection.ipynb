{
  "cells": [
    {
      "cell_type": "code",
      "execution_count": 1,
      "metadata": {
        "colab": {
          "base_uri": "https://localhost:8080/"
        },
        "id": "imYDs7Q4kS-t",
        "outputId": "defd0e7a-83db-4a1d-bb80-c1a4cb57ab65"
      },
      "outputs": [
        {
          "name": "stdout",
          "output_type": "stream",
          "text": [
            "Requirement already satisfied: opencv-python in c:\\users\\julia\\anaconda3\\lib\\site-packages (4.5.5.64)\n",
            "Requirement already satisfied: numpy>=1.17.3 in c:\\users\\julia\\anaconda3\\lib\\site-packages (from opencv-python) (1.20.1)\n",
            "Note: you may need to restart the kernel to use updated packages.\n"
          ]
        }
      ],
      "source": [
        "%pip install opencv-python"
      ]
    },
    {
      "cell_type": "code",
      "execution_count": 2,
      "metadata": {
        "id": "GxQtuN16knDP"
      },
      "outputs": [],
      "source": [
        "import cv2\n",
        "import matplotlib.pyplot as plt\n",
        "import numpy as np\n"
      ]
    },
    {
      "cell_type": "markdown",
      "metadata": {
        "id": "HVuZxOsqml3i"
      },
      "source": [
        "**ESTADOS DO ALGARITMO:**\n",
        "\n",
        "(Face Detection- OpenCV)\n",
        "\n",
        "1.   Haar Features Selection\n",
        "2.   Integral Images\n",
        "3.   AdaBoost\n",
        "4.   Classificador em cascata\n",
        "\n"
      ]
    },
    {
      "cell_type": "code",
      "execution_count": 6,
      "metadata": {
        "id": "XDuQ4XYjmQNE"
      },
      "outputs": [],
      "source": [
        "haar_data = cv2.CascadeClassifier('haarcascade_frontalface_default.xml')"
      ]
    },
    {
      "cell_type": "markdown",
      "metadata": {
        "id": "qWIi-T3Mk_ei"
      },
      "source": [
        "**ETAPAS:**\n",
        "\n",
        "\n",
        "\n",
        "1.   Collect face data with and without mask\n",
        "2.   Train Data using Machine Learning\n",
        "3.   Do prediction on live Data using camara\n",
        "\n"
      ]
    },
    {
      "cell_type": "code",
      "execution_count": null,
      "metadata": {
        "id": "fSdTRwjJlaL6"
      },
      "outputs": [],
      "source": [
        "capture = cv2.VideoCapture(0) \n",
        "data = []\n",
        "\n",
        "while True:\n",
        "  flag, img = capture.read()\n",
        "  if flag: \n",
        "    faces = haar_data.detectMultiSacale(img)\n",
        "    for x,y,w,h in faces: \n",
        "      cv2.rectangle(img, (x,y), (x+w, y+h), (255,0,255), 4)\n",
        "      face = img[y:y+h, x:x+w, :] \n",
        "      face = cv2.resize(face, (50,50)) \n",
        "      print(len(data))\n",
        "      if len(data) < 200:\n",
        "        data.append(face)\n",
        "    cv2.imshow('result', img) \n",
        "    if cv2.waitKey(2) == 27 or len(data) >=200: \n",
        "      break\n",
        "    \n",
        "capture.release()\n",
        "cv2.destroyAllWindows()"
      ]
    },
    {
      "cell_type": "code",
      "execution_count": null,
      "metadata": {},
      "outputs": [],
      "source": [
        "np.save('without_mask.npy', data)\n",
        "np.save('with_mask.npy', data)"
      ]
    },
    {
      "cell_type": "code",
      "execution_count": null,
      "metadata": {},
      "outputs": [],
      "source": [
        "plt.imshow(data[0])"
      ]
    }
  ],
  "metadata": {
    "colab": {
      "name": "Untitled0.ipynb",
      "provenance": []
    },
    "interpreter": {
      "hash": "cb57b3ccfe62c6746bf3247651268e5f45d4314d13d2f08503817b1c05971834"
    },
    "kernelspec": {
      "display_name": "Python 3.8.8 ('base')",
      "language": "python",
      "name": "python3"
    },
    "language_info": {
      "codemirror_mode": {
        "name": "ipython",
        "version": 3
      },
      "file_extension": ".py",
      "mimetype": "text/x-python",
      "name": "python",
      "nbconvert_exporter": "python",
      "pygments_lexer": "ipython3",
      "version": "3.8.8"
    }
  },
  "nbformat": 4,
  "nbformat_minor": 0
}
